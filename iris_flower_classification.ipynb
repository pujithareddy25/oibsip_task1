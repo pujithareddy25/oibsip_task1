{
  "cells": [
    {
      "cell_type": "code",
      "execution_count": null,
      "id": "55334cf4",
      "metadata": {
        "_cell_guid": "b1076dfc-b9ad-4769-8c92-a6c4dae69d19",
        "_uuid": "8f2839f25d086af736a60e9eeb907d3b93b6e0e5",
        "execution": {
          "iopub.execute_input": "2023-02-12T05:38:45.744076Z",
          "iopub.status.busy": "2023-02-12T05:38:45.743562Z",
          "iopub.status.idle": "2023-02-12T05:38:46.892672Z",
          "shell.execute_reply": "2023-02-12T05:38:46.891554Z"
        },
        "papermill": {
          "duration": 1.161733,
          "end_time": "2023-02-12T05:38:46.895440",
          "exception": false,
          "start_time": "2023-02-12T05:38:45.733707",
          "status": "completed"
        },
        "tags": [],
        "id": "55334cf4"
      },
      "outputs": [],
      "source": [
        "import numpy as np\n",
        "import seaborn as sns\n",
        "import matplotlib.pyplot as plt\n",
        "import pandas as pd"
      ]
    },
    {
      "cell_type": "code",
      "execution_count": null,
      "id": "59ecc864",
      "metadata": {
        "execution": {
          "iopub.execute_input": "2023-02-12T05:38:46.911136Z",
          "iopub.status.busy": "2023-02-12T05:38:46.910138Z",
          "iopub.status.idle": "2023-02-12T05:38:46.957713Z",
          "shell.execute_reply": "2023-02-12T05:38:46.956893Z"
        },
        "papermill": {
          "duration": 0.057662,
          "end_time": "2023-02-12T05:38:46.959924",
          "exception": false,
          "start_time": "2023-02-12T05:38:46.902262",
          "status": "completed"
        },
        "tags": [],
        "colab": {
          "base_uri": "https://localhost:8080/",
          "height": 206
        },
        "id": "59ecc864",
        "outputId": "66e3af57-52e7-4bfa-b3fc-b4407b734125"
      },
      "outputs": [
        {
          "output_type": "execute_result",
          "data": {
            "text/plain": [
              "   Id  SepalLengthCm  SepalWidthCm  PetalLengthCm  PetalWidthCm      Species\n",
              "0   1            5.1           3.5            1.4           0.2  Iris-setosa\n",
              "1   2            4.9           3.0            1.4           0.2  Iris-setosa\n",
              "2   3            4.7           3.2            1.3           0.2  Iris-setosa\n",
              "3   4            4.6           3.1            1.5           0.2  Iris-setosa\n",
              "4   5            5.0           3.6            1.4           0.2  Iris-setosa"
            ],
            "text/html": [
              "\n",
              "  <div id=\"df-83ff7a9d-c4b8-4868-8ac7-554ab6307b85\">\n",
              "    <div class=\"colab-df-container\">\n",
              "      <div>\n",
              "<style scoped>\n",
              "    .dataframe tbody tr th:only-of-type {\n",
              "        vertical-align: middle;\n",
              "    }\n",
              "\n",
              "    .dataframe tbody tr th {\n",
              "        vertical-align: top;\n",
              "    }\n",
              "\n",
              "    .dataframe thead th {\n",
              "        text-align: right;\n",
              "    }\n",
              "</style>\n",
              "<table border=\"1\" class=\"dataframe\">\n",
              "  <thead>\n",
              "    <tr style=\"text-align: right;\">\n",
              "      <th></th>\n",
              "      <th>Id</th>\n",
              "      <th>SepalLengthCm</th>\n",
              "      <th>SepalWidthCm</th>\n",
              "      <th>PetalLengthCm</th>\n",
              "      <th>PetalWidthCm</th>\n",
              "      <th>Species</th>\n",
              "    </tr>\n",
              "  </thead>\n",
              "  <tbody>\n",
              "    <tr>\n",
              "      <th>0</th>\n",
              "      <td>1</td>\n",
              "      <td>5.1</td>\n",
              "      <td>3.5</td>\n",
              "      <td>1.4</td>\n",
              "      <td>0.2</td>\n",
              "      <td>Iris-setosa</td>\n",
              "    </tr>\n",
              "    <tr>\n",
              "      <th>1</th>\n",
              "      <td>2</td>\n",
              "      <td>4.9</td>\n",
              "      <td>3.0</td>\n",
              "      <td>1.4</td>\n",
              "      <td>0.2</td>\n",
              "      <td>Iris-setosa</td>\n",
              "    </tr>\n",
              "    <tr>\n",
              "      <th>2</th>\n",
              "      <td>3</td>\n",
              "      <td>4.7</td>\n",
              "      <td>3.2</td>\n",
              "      <td>1.3</td>\n",
              "      <td>0.2</td>\n",
              "      <td>Iris-setosa</td>\n",
              "    </tr>\n",
              "    <tr>\n",
              "      <th>3</th>\n",
              "      <td>4</td>\n",
              "      <td>4.6</td>\n",
              "      <td>3.1</td>\n",
              "      <td>1.5</td>\n",
              "      <td>0.2</td>\n",
              "      <td>Iris-setosa</td>\n",
              "    </tr>\n",
              "    <tr>\n",
              "      <th>4</th>\n",
              "      <td>5</td>\n",
              "      <td>5.0</td>\n",
              "      <td>3.6</td>\n",
              "      <td>1.4</td>\n",
              "      <td>0.2</td>\n",
              "      <td>Iris-setosa</td>\n",
              "    </tr>\n",
              "  </tbody>\n",
              "</table>\n",
              "</div>\n",
              "      <button class=\"colab-df-convert\" onclick=\"convertToInteractive('df-83ff7a9d-c4b8-4868-8ac7-554ab6307b85')\"\n",
              "              title=\"Convert this dataframe to an interactive table.\"\n",
              "              style=\"display:none;\">\n",
              "        \n",
              "  <svg xmlns=\"http://www.w3.org/2000/svg\" height=\"24px\"viewBox=\"0 0 24 24\"\n",
              "       width=\"24px\">\n",
              "    <path d=\"M0 0h24v24H0V0z\" fill=\"none\"/>\n",
              "    <path d=\"M18.56 5.44l.94 2.06.94-2.06 2.06-.94-2.06-.94-.94-2.06-.94 2.06-2.06.94zm-11 1L8.5 8.5l.94-2.06 2.06-.94-2.06-.94L8.5 2.5l-.94 2.06-2.06.94zm10 10l.94 2.06.94-2.06 2.06-.94-2.06-.94-.94-2.06-.94 2.06-2.06.94z\"/><path d=\"M17.41 7.96l-1.37-1.37c-.4-.4-.92-.59-1.43-.59-.52 0-1.04.2-1.43.59L10.3 9.45l-7.72 7.72c-.78.78-.78 2.05 0 2.83L4 21.41c.39.39.9.59 1.41.59.51 0 1.02-.2 1.41-.59l7.78-7.78 2.81-2.81c.8-.78.8-2.07 0-2.86zM5.41 20L4 18.59l7.72-7.72 1.47 1.35L5.41 20z\"/>\n",
              "  </svg>\n",
              "      </button>\n",
              "      \n",
              "  <style>\n",
              "    .colab-df-container {\n",
              "      display:flex;\n",
              "      flex-wrap:wrap;\n",
              "      gap: 12px;\n",
              "    }\n",
              "\n",
              "    .colab-df-convert {\n",
              "      background-color: #E8F0FE;\n",
              "      border: none;\n",
              "      border-radius: 50%;\n",
              "      cursor: pointer;\n",
              "      display: none;\n",
              "      fill: #1967D2;\n",
              "      height: 32px;\n",
              "      padding: 0 0 0 0;\n",
              "      width: 32px;\n",
              "    }\n",
              "\n",
              "    .colab-df-convert:hover {\n",
              "      background-color: #E2EBFA;\n",
              "      box-shadow: 0px 1px 2px rgba(60, 64, 67, 0.3), 0px 1px 3px 1px rgba(60, 64, 67, 0.15);\n",
              "      fill: #174EA6;\n",
              "    }\n",
              "\n",
              "    [theme=dark] .colab-df-convert {\n",
              "      background-color: #3B4455;\n",
              "      fill: #D2E3FC;\n",
              "    }\n",
              "\n",
              "    [theme=dark] .colab-df-convert:hover {\n",
              "      background-color: #434B5C;\n",
              "      box-shadow: 0px 1px 3px 1px rgba(0, 0, 0, 0.15);\n",
              "      filter: drop-shadow(0px 1px 2px rgba(0, 0, 0, 0.3));\n",
              "      fill: #FFFFFF;\n",
              "    }\n",
              "  </style>\n",
              "\n",
              "      <script>\n",
              "        const buttonEl =\n",
              "          document.querySelector('#df-83ff7a9d-c4b8-4868-8ac7-554ab6307b85 button.colab-df-convert');\n",
              "        buttonEl.style.display =\n",
              "          google.colab.kernel.accessAllowed ? 'block' : 'none';\n",
              "\n",
              "        async function convertToInteractive(key) {\n",
              "          const element = document.querySelector('#df-83ff7a9d-c4b8-4868-8ac7-554ab6307b85');\n",
              "          const dataTable =\n",
              "            await google.colab.kernel.invokeFunction('convertToInteractive',\n",
              "                                                     [key], {});\n",
              "          if (!dataTable) return;\n",
              "\n",
              "          const docLinkHtml = 'Like what you see? Visit the ' +\n",
              "            '<a target=\"_blank\" href=https://colab.research.google.com/notebooks/data_table.ipynb>data table notebook</a>'\n",
              "            + ' to learn more about interactive tables.';\n",
              "          element.innerHTML = '';\n",
              "          dataTable['output_type'] = 'display_data';\n",
              "          await google.colab.output.renderOutput(dataTable, element);\n",
              "          const docLink = document.createElement('div');\n",
              "          docLink.innerHTML = docLinkHtml;\n",
              "          element.appendChild(docLink);\n",
              "        }\n",
              "      </script>\n",
              "    </div>\n",
              "  </div>\n",
              "  "
            ]
          },
          "metadata": {},
          "execution_count": 3
        }
      ],
      "source": [
        "df = pd.read_csv('/content/Iris.csv')\n",
        "df.head()"
      ]
    },
    {
      "cell_type": "code",
      "execution_count": null,
      "id": "eb8d4cac",
      "metadata": {
        "execution": {
          "iopub.execute_input": "2023-02-12T05:38:46.975461Z",
          "iopub.status.busy": "2023-02-12T05:38:46.975034Z",
          "iopub.status.idle": "2023-02-12T05:38:46.986973Z",
          "shell.execute_reply": "2023-02-12T05:38:46.986117Z"
        },
        "papermill": {
          "duration": 0.022419,
          "end_time": "2023-02-12T05:38:46.989305",
          "exception": false,
          "start_time": "2023-02-12T05:38:46.966886",
          "status": "completed"
        },
        "tags": [],
        "colab": {
          "base_uri": "https://localhost:8080/"
        },
        "id": "eb8d4cac",
        "outputId": "aca24416-8b9c-4aff-9811-326b673d0e1b"
      },
      "outputs": [
        {
          "output_type": "execute_result",
          "data": {
            "text/plain": [
              "<bound method Series.unique of Id               150\n",
              "SepalLengthCm    150\n",
              "SepalWidthCm     150\n",
              "PetalLengthCm    150\n",
              "PetalWidthCm     150\n",
              "Species          150\n",
              "dtype: int64>"
            ]
          },
          "metadata": {},
          "execution_count": 4
        }
      ],
      "source": [
        "df.count().unique"
      ]
    },
    {
      "cell_type": "code",
      "execution_count": null,
      "id": "e54d0f35",
      "metadata": {
        "execution": {
          "iopub.execute_input": "2023-02-12T05:38:47.005567Z",
          "iopub.status.busy": "2023-02-12T05:38:47.004808Z",
          "iopub.status.idle": "2023-02-12T05:38:47.013810Z",
          "shell.execute_reply": "2023-02-12T05:38:47.012814Z"
        },
        "papermill": {
          "duration": 0.019687,
          "end_time": "2023-02-12T05:38:47.015995",
          "exception": false,
          "start_time": "2023-02-12T05:38:46.996308",
          "status": "completed"
        },
        "tags": [],
        "colab": {
          "base_uri": "https://localhost:8080/"
        },
        "id": "e54d0f35",
        "outputId": "c806bc0b-3c69-4fdb-87d6-3a5e90bf0d46"
      },
      "outputs": [
        {
          "output_type": "execute_result",
          "data": {
            "text/plain": [
              "Id               0\n",
              "SepalLengthCm    0\n",
              "SepalWidthCm     0\n",
              "PetalLengthCm    0\n",
              "PetalWidthCm     0\n",
              "Species          0\n",
              "dtype: int64"
            ]
          },
          "metadata": {},
          "execution_count": 5
        }
      ],
      "source": [
        "df.isnull().sum()"
      ]
    },
    {
      "cell_type": "code",
      "execution_count": null,
      "id": "1c1fabce",
      "metadata": {
        "execution": {
          "iopub.execute_input": "2023-02-12T05:38:47.032652Z",
          "iopub.status.busy": "2023-02-12T05:38:47.031534Z",
          "iopub.status.idle": "2023-02-12T05:38:47.045829Z",
          "shell.execute_reply": "2023-02-12T05:38:47.044706Z"
        },
        "papermill": {
          "duration": 0.025138,
          "end_time": "2023-02-12T05:38:47.048304",
          "exception": false,
          "start_time": "2023-02-12T05:38:47.023166",
          "status": "completed"
        },
        "tags": [],
        "colab": {
          "base_uri": "https://localhost:8080/"
        },
        "id": "1c1fabce",
        "outputId": "755dbce7-66e3-4ae0-a5f6-cde5058f13bf"
      },
      "outputs": [
        {
          "output_type": "execute_result",
          "data": {
            "text/plain": [
              "0"
            ]
          },
          "metadata": {},
          "execution_count": 6
        }
      ],
      "source": [
        "df.duplicated().sum()"
      ]
    },
    {
      "cell_type": "code",
      "execution_count": null,
      "id": "166a591e",
      "metadata": {
        "execution": {
          "iopub.execute_input": "2023-02-12T05:38:47.065387Z",
          "iopub.status.busy": "2023-02-12T05:38:47.064636Z",
          "iopub.status.idle": "2023-02-12T05:38:47.073141Z",
          "shell.execute_reply": "2023-02-12T05:38:47.071973Z"
        },
        "papermill": {
          "duration": 0.020394,
          "end_time": "2023-02-12T05:38:47.075988",
          "exception": false,
          "start_time": "2023-02-12T05:38:47.055594",
          "status": "completed"
        },
        "tags": [],
        "id": "166a591e"
      },
      "outputs": [],
      "source": [
        "df = df.drop(columns=['Id'])     "
      ]
    },
    {
      "cell_type": "code",
      "execution_count": null,
      "id": "99877a12",
      "metadata": {
        "execution": {
          "iopub.execute_input": "2023-02-12T05:38:47.093362Z",
          "iopub.status.busy": "2023-02-12T05:38:47.092930Z",
          "iopub.status.idle": "2023-02-12T05:38:47.106195Z",
          "shell.execute_reply": "2023-02-12T05:38:47.105324Z"
        },
        "papermill": {
          "duration": 0.024647,
          "end_time": "2023-02-12T05:38:47.108349",
          "exception": false,
          "start_time": "2023-02-12T05:38:47.083702",
          "status": "completed"
        },
        "tags": [],
        "colab": {
          "base_uri": "https://localhost:8080/",
          "height": 206
        },
        "id": "99877a12",
        "outputId": "b2fffd31-9b54-468e-af6c-8e8a76fece04"
      },
      "outputs": [
        {
          "output_type": "execute_result",
          "data": {
            "text/plain": [
              "   SepalLengthCm  SepalWidthCm  PetalLengthCm  PetalWidthCm      Species\n",
              "0            5.1           3.5            1.4           0.2  Iris-setosa\n",
              "1            4.9           3.0            1.4           0.2  Iris-setosa\n",
              "2            4.7           3.2            1.3           0.2  Iris-setosa\n",
              "3            4.6           3.1            1.5           0.2  Iris-setosa\n",
              "4            5.0           3.6            1.4           0.2  Iris-setosa"
            ],
            "text/html": [
              "\n",
              "  <div id=\"df-2e3f7b43-18b0-4ca3-ad52-0112fa4abf3a\">\n",
              "    <div class=\"colab-df-container\">\n",
              "      <div>\n",
              "<style scoped>\n",
              "    .dataframe tbody tr th:only-of-type {\n",
              "        vertical-align: middle;\n",
              "    }\n",
              "\n",
              "    .dataframe tbody tr th {\n",
              "        vertical-align: top;\n",
              "    }\n",
              "\n",
              "    .dataframe thead th {\n",
              "        text-align: right;\n",
              "    }\n",
              "</style>\n",
              "<table border=\"1\" class=\"dataframe\">\n",
              "  <thead>\n",
              "    <tr style=\"text-align: right;\">\n",
              "      <th></th>\n",
              "      <th>SepalLengthCm</th>\n",
              "      <th>SepalWidthCm</th>\n",
              "      <th>PetalLengthCm</th>\n",
              "      <th>PetalWidthCm</th>\n",
              "      <th>Species</th>\n",
              "    </tr>\n",
              "  </thead>\n",
              "  <tbody>\n",
              "    <tr>\n",
              "      <th>0</th>\n",
              "      <td>5.1</td>\n",
              "      <td>3.5</td>\n",
              "      <td>1.4</td>\n",
              "      <td>0.2</td>\n",
              "      <td>Iris-setosa</td>\n",
              "    </tr>\n",
              "    <tr>\n",
              "      <th>1</th>\n",
              "      <td>4.9</td>\n",
              "      <td>3.0</td>\n",
              "      <td>1.4</td>\n",
              "      <td>0.2</td>\n",
              "      <td>Iris-setosa</td>\n",
              "    </tr>\n",
              "    <tr>\n",
              "      <th>2</th>\n",
              "      <td>4.7</td>\n",
              "      <td>3.2</td>\n",
              "      <td>1.3</td>\n",
              "      <td>0.2</td>\n",
              "      <td>Iris-setosa</td>\n",
              "    </tr>\n",
              "    <tr>\n",
              "      <th>3</th>\n",
              "      <td>4.6</td>\n",
              "      <td>3.1</td>\n",
              "      <td>1.5</td>\n",
              "      <td>0.2</td>\n",
              "      <td>Iris-setosa</td>\n",
              "    </tr>\n",
              "    <tr>\n",
              "      <th>4</th>\n",
              "      <td>5.0</td>\n",
              "      <td>3.6</td>\n",
              "      <td>1.4</td>\n",
              "      <td>0.2</td>\n",
              "      <td>Iris-setosa</td>\n",
              "    </tr>\n",
              "  </tbody>\n",
              "</table>\n",
              "</div>\n",
              "      <button class=\"colab-df-convert\" onclick=\"convertToInteractive('df-2e3f7b43-18b0-4ca3-ad52-0112fa4abf3a')\"\n",
              "              title=\"Convert this dataframe to an interactive table.\"\n",
              "              style=\"display:none;\">\n",
              "        \n",
              "  <svg xmlns=\"http://www.w3.org/2000/svg\" height=\"24px\"viewBox=\"0 0 24 24\"\n",
              "       width=\"24px\">\n",
              "    <path d=\"M0 0h24v24H0V0z\" fill=\"none\"/>\n",
              "    <path d=\"M18.56 5.44l.94 2.06.94-2.06 2.06-.94-2.06-.94-.94-2.06-.94 2.06-2.06.94zm-11 1L8.5 8.5l.94-2.06 2.06-.94-2.06-.94L8.5 2.5l-.94 2.06-2.06.94zm10 10l.94 2.06.94-2.06 2.06-.94-2.06-.94-.94-2.06-.94 2.06-2.06.94z\"/><path d=\"M17.41 7.96l-1.37-1.37c-.4-.4-.92-.59-1.43-.59-.52 0-1.04.2-1.43.59L10.3 9.45l-7.72 7.72c-.78.78-.78 2.05 0 2.83L4 21.41c.39.39.9.59 1.41.59.51 0 1.02-.2 1.41-.59l7.78-7.78 2.81-2.81c.8-.78.8-2.07 0-2.86zM5.41 20L4 18.59l7.72-7.72 1.47 1.35L5.41 20z\"/>\n",
              "  </svg>\n",
              "      </button>\n",
              "      \n",
              "  <style>\n",
              "    .colab-df-container {\n",
              "      display:flex;\n",
              "      flex-wrap:wrap;\n",
              "      gap: 12px;\n",
              "    }\n",
              "\n",
              "    .colab-df-convert {\n",
              "      background-color: #E8F0FE;\n",
              "      border: none;\n",
              "      border-radius: 50%;\n",
              "      cursor: pointer;\n",
              "      display: none;\n",
              "      fill: #1967D2;\n",
              "      height: 32px;\n",
              "      padding: 0 0 0 0;\n",
              "      width: 32px;\n",
              "    }\n",
              "\n",
              "    .colab-df-convert:hover {\n",
              "      background-color: #E2EBFA;\n",
              "      box-shadow: 0px 1px 2px rgba(60, 64, 67, 0.3), 0px 1px 3px 1px rgba(60, 64, 67, 0.15);\n",
              "      fill: #174EA6;\n",
              "    }\n",
              "\n",
              "    [theme=dark] .colab-df-convert {\n",
              "      background-color: #3B4455;\n",
              "      fill: #D2E3FC;\n",
              "    }\n",
              "\n",
              "    [theme=dark] .colab-df-convert:hover {\n",
              "      background-color: #434B5C;\n",
              "      box-shadow: 0px 1px 3px 1px rgba(0, 0, 0, 0.15);\n",
              "      filter: drop-shadow(0px 1px 2px rgba(0, 0, 0, 0.3));\n",
              "      fill: #FFFFFF;\n",
              "    }\n",
              "  </style>\n",
              "\n",
              "      <script>\n",
              "        const buttonEl =\n",
              "          document.querySelector('#df-2e3f7b43-18b0-4ca3-ad52-0112fa4abf3a button.colab-df-convert');\n",
              "        buttonEl.style.display =\n",
              "          google.colab.kernel.accessAllowed ? 'block' : 'none';\n",
              "\n",
              "        async function convertToInteractive(key) {\n",
              "          const element = document.querySelector('#df-2e3f7b43-18b0-4ca3-ad52-0112fa4abf3a');\n",
              "          const dataTable =\n",
              "            await google.colab.kernel.invokeFunction('convertToInteractive',\n",
              "                                                     [key], {});\n",
              "          if (!dataTable) return;\n",
              "\n",
              "          const docLinkHtml = 'Like what you see? Visit the ' +\n",
              "            '<a target=\"_blank\" href=https://colab.research.google.com/notebooks/data_table.ipynb>data table notebook</a>'\n",
              "            + ' to learn more about interactive tables.';\n",
              "          element.innerHTML = '';\n",
              "          dataTable['output_type'] = 'display_data';\n",
              "          await google.colab.output.renderOutput(dataTable, element);\n",
              "          const docLink = document.createElement('div');\n",
              "          docLink.innerHTML = docLinkHtml;\n",
              "          element.appendChild(docLink);\n",
              "        }\n",
              "      </script>\n",
              "    </div>\n",
              "  </div>\n",
              "  "
            ]
          },
          "metadata": {},
          "execution_count": 8
        }
      ],
      "source": [
        "df.head()"
      ]
    },
    {
      "cell_type": "code",
      "execution_count": null,
      "id": "f9e80c38",
      "metadata": {
        "execution": {
          "iopub.execute_input": "2023-02-12T05:38:47.126456Z",
          "iopub.status.busy": "2023-02-12T05:38:47.125481Z",
          "iopub.status.idle": "2023-02-12T05:38:47.335398Z",
          "shell.execute_reply": "2023-02-12T05:38:47.334422Z"
        },
        "papermill": {
          "duration": 0.222546,
          "end_time": "2023-02-12T05:38:47.338362",
          "exception": false,
          "start_time": "2023-02-12T05:38:47.115816",
          "status": "completed"
        },
        "tags": [],
        "colab": {
          "base_uri": "https://localhost:8080/",
          "height": 569
        },
        "id": "f9e80c38",
        "outputId": "bf491c26-275d-4652-d2fe-3e9a98555574"
      },
      "outputs": [
        {
          "output_type": "execute_result",
          "data": {
            "text/plain": [
              "{'whiskers': [<matplotlib.lines.Line2D at 0x7ff23e6407f0>,\n",
              "  <matplotlib.lines.Line2D at 0x7ff23e640a90>],\n",
              " 'caps': [<matplotlib.lines.Line2D at 0x7ff23e640d30>,\n",
              "  <matplotlib.lines.Line2D at 0x7ff23e640fd0>],\n",
              " 'boxes': [<matplotlib.lines.Line2D at 0x7ff23e640550>],\n",
              " 'medians': [<matplotlib.lines.Line2D at 0x7ff23e641270>],\n",
              " 'fliers': [<matplotlib.lines.Line2D at 0x7ff23e641510>],\n",
              " 'means': []}"
            ]
          },
          "metadata": {},
          "execution_count": 9
        },
        {
          "output_type": "display_data",
          "data": {
            "text/plain": [
              "<Figure size 640x480 with 1 Axes>"
            ],
            "image/png": "[encoded data removed]"
          },
          "metadata": {}
        }
      ],
      "source": [
        "plt.boxplot(df['SepalLengthCm'])"
      ]
    },
    {
      "cell_type": "code",
      "execution_count": null,
      "id": "de9d5bc6",
      "metadata": {
        "execution": {
          "iopub.execute_input": "2023-02-12T05:38:47.355275Z",
          "iopub.status.busy": "2023-02-12T05:38:47.354819Z",
          "iopub.status.idle": "2023-02-12T05:38:47.520595Z",
          "shell.execute_reply": "2023-02-12T05:38:47.519446Z"
        },
        "papermill": {
          "duration": 0.177148,
          "end_time": "2023-02-12T05:38:47.523045",
          "exception": false,
          "start_time": "2023-02-12T05:38:47.345897",
          "status": "completed"
        },
        "tags": [],
        "colab": {
          "base_uri": "https://localhost:8080/",
          "height": 572
        },
        "id": "de9d5bc6",
        "outputId": "f27dd93b-a7ef-402e-db29-ac2cc713fa1b"
      },
      "outputs": [
        {
          "output_type": "execute_result",
          "data": {
            "text/plain": [
              "{'whiskers': [<matplotlib.lines.Line2D at 0x7ff23c554b80>,\n",
              "  <matplotlib.lines.Line2D at 0x7ff23c554e20>],\n",
              " 'caps': [<matplotlib.lines.Line2D at 0x7ff23c5550c0>,\n",
              "  <matplotlib.lines.Line2D at 0x7ff23c555360>],\n",
              " 'boxes': [<matplotlib.lines.Line2D at 0x7ff23c5548e0>],\n",
              " 'medians': [<matplotlib.lines.Line2D at 0x7ff23c555570>],\n",
              " 'fliers': [<matplotlib.lines.Line2D at 0x7ff23c555840>],\n",
              " 'means': []}"
            ]
          },
          "metadata": {},
          "execution_count": 10
        },
        {
          "output_type": "display_data",
          "data": {
            "text/plain": [
              "<Figure size 640x480 with 1 Axes>"
            ],
            "image/png": "[encoded data removed]"
          },
          "metadata": {}
        }
      ],
      "source": [
        "plt.boxplot(df['SepalWidthCm']) "
      ]
    },
    {
      "cell_type": "code",
      "execution_count": null,
      "id": "6efb3800",
      "metadata": {
        "execution": {
          "iopub.execute_input": "2023-02-12T05:38:47.540798Z",
          "iopub.status.busy": "2023-02-12T05:38:47.539871Z",
          "iopub.status.idle": "2023-02-12T05:38:47.724161Z",
          "shell.execute_reply": "2023-02-12T05:38:47.723046Z"
        },
        "papermill": {
          "duration": 0.196118,
          "end_time": "2023-02-12T05:38:47.726995",
          "exception": false,
          "start_time": "2023-02-12T05:38:47.530877",
          "status": "completed"
        },
        "tags": [],
        "colab": {
          "base_uri": "https://localhost:8080/",
          "height": 569
        },
        "id": "6efb3800",
        "outputId": "d89ee6d7-0b49-4306-a599-ff7f34e1c9e2"
      },
      "outputs": [
        {
          "output_type": "execute_result",
          "data": {
            "text/plain": [
              "{'whiskers': [<matplotlib.lines.Line2D at 0x7ff23c5a7970>,\n",
              "  <matplotlib.lines.Line2D at 0x7ff23c5a7c10>],\n",
              " 'caps': [<matplotlib.lines.Line2D at 0x7ff23c5a7eb0>,\n",
              "  <matplotlib.lines.Line2D at 0x7ff23c5d8190>],\n",
              " 'boxes': [<matplotlib.lines.Line2D at 0x7ff23c5a76d0>],\n",
              " 'medians': [<matplotlib.lines.Line2D at 0x7ff23c5d8430>],\n",
              " 'fliers': [<matplotlib.lines.Line2D at 0x7ff23c57fa60>],\n",
              " 'means': []}"
            ]
          },
          "metadata": {},
          "execution_count": 11
        },
        {
          "output_type": "display_data",
          "data": {
            "text/plain": [
              "<Figure size 640x480 with 1 Axes>"
            ],
            "image/png": "[encoded data removed]"
          },
          "metadata": {}
        }
      ],
      "source": [
        "plt.boxplot(df['PetalLengthCm']) \n"
      ]
    },
    {
      "cell_type": "code",
      "execution_count": null,
      "id": "3b633c4a",
      "metadata": {
        "execution": {
          "iopub.execute_input": "2023-02-12T05:38:47.745562Z",
          "iopub.status.busy": "2023-02-12T05:38:47.745165Z",
          "iopub.status.idle": "2023-02-12T05:38:47.925222Z",
          "shell.execute_reply": "2023-02-12T05:38:47.924001Z"
        },
        "papermill": {
          "duration": 0.192697,
          "end_time": "2023-02-12T05:38:47.928010",
          "exception": false,
          "start_time": "2023-02-12T05:38:47.735313",
          "status": "completed"
        },
        "tags": [],
        "colab": {
          "base_uri": "https://localhost:8080/",
          "height": 569
        },
        "id": "3b633c4a",
        "outputId": "14a88582-8de6-46ff-8414-7e753e11aae2"
      },
      "outputs": [
        {
          "output_type": "execute_result",
          "data": {
            "text/plain": [
              "{'whiskers': [<matplotlib.lines.Line2D at 0x7ff23c434df0>,\n",
              "  <matplotlib.lines.Line2D at 0x7ff23c435090>],\n",
              " 'caps': [<matplotlib.lines.Line2D at 0x7ff23c435330>,\n",
              "  <matplotlib.lines.Line2D at 0x7ff23c4355d0>],\n",
              " 'boxes': [<matplotlib.lines.Line2D at 0x7ff23c434c70>],\n",
              " 'medians': [<matplotlib.lines.Line2D at 0x7ff23c435870>],\n",
              " 'fliers': [<matplotlib.lines.Line2D at 0x7ff23c435b10>],\n",
              " 'means': []}"
            ]
          },
          "metadata": {},
          "execution_count": 12
        },
        {
          "output_type": "display_data",
          "data": {
            "text/plain": [
              "<Figure size 640x480 with 1 Axes>"
            ],
            "image/png": "[encoded data removed]"
          },
          "metadata": {}
        }
      ],
      "source": [
        "plt.boxplot(df['PetalWidthCm'])"
      ]
    },
    {
      "cell_type": "code",
      "execution_count": null,
      "id": "d1ef0b48",
      "metadata": {
        "execution": {
          "iopub.execute_input": "2023-02-12T05:38:47.947697Z",
          "iopub.status.busy": "2023-02-12T05:38:47.946403Z",
          "iopub.status.idle": "2023-02-12T05:38:48.137174Z",
          "shell.execute_reply": "2023-02-12T05:38:48.136145Z"
        },
        "papermill": {
          "duration": 0.203692,
          "end_time": "2023-02-12T05:38:48.140241",
          "exception": false,
          "start_time": "2023-02-12T05:38:47.936549",
          "status": "completed"
        },
        "tags": [],
        "colab": {
          "base_uri": "https://localhost:8080/",
          "height": 447
        },
        "id": "d1ef0b48",
        "outputId": "d64eb5ff-cf0b-4fcd-c8bf-3b75fd3855ff"
      },
      "outputs": [
        {
          "output_type": "execute_result",
          "data": {
            "text/plain": [
              "<matplotlib.collections.PathCollection at 0x7ff23c47f910>"
            ]
          },
          "metadata": {},
          "execution_count": 13
        },
        {
          "output_type": "display_data",
          "data": {
            "text/plain": [
              "<Figure size 640x480 with 1 Axes>"
            ],
            "image/png": "[encoded data removed]"
          },
          "metadata": {}
        }
      ],
      "source": [
        "plt.scatter(df['SepalWidthCm'],df['Species'])   "
      ]
    },
    {
      "cell_type": "code",
      "execution_count": null,
      "id": "86d4d92e",
      "metadata": {
        "execution": {
          "iopub.execute_input": "2023-02-12T05:38:48.215149Z",
          "iopub.status.busy": "2023-02-12T05:38:48.214580Z",
          "iopub.status.idle": "2023-02-12T05:38:48.220354Z",
          "shell.execute_reply": "2023-02-12T05:38:48.219550Z"
        },
        "papermill": {
          "duration": 0.017743,
          "end_time": "2023-02-12T05:38:48.222283",
          "exception": false,
          "start_time": "2023-02-12T05:38:48.204540",
          "status": "completed"
        },
        "tags": [],
        "id": "86d4d92e"
      },
      "outputs": [],
      "source": [
        "X = df.drop(columns=['Species'])"
      ]
    },
    {
      "cell_type": "code",
      "execution_count": null,
      "id": "e5b935ab",
      "metadata": {
        "execution": {
          "iopub.execute_input": "2023-02-12T05:38:48.241647Z",
          "iopub.status.busy": "2023-02-12T05:38:48.241242Z",
          "iopub.status.idle": "2023-02-12T05:38:48.246131Z",
          "shell.execute_reply": "2023-02-12T05:38:48.245018Z"
        },
        "papermill": {
          "duration": 0.017217,
          "end_time": "2023-02-12T05:38:48.248389",
          "exception": false,
          "start_time": "2023-02-12T05:38:48.231172",
          "status": "completed"
        },
        "tags": [],
        "id": "e5b935ab"
      },
      "outputs": [],
      "source": [
        "y = df.Species\n"
      ]
    },
    {
      "cell_type": "code",
      "execution_count": null,
      "id": "09d70928",
      "metadata": {
        "execution": {
          "iopub.execute_input": "2023-02-12T05:38:48.268084Z",
          "iopub.status.busy": "2023-02-12T05:38:48.267688Z",
          "iopub.status.idle": "2023-02-12T05:38:48.273669Z",
          "shell.execute_reply": "2023-02-12T05:38:48.272545Z"
        },
        "papermill": {
          "duration": 0.018883,
          "end_time": "2023-02-12T05:38:48.276191",
          "exception": false,
          "start_time": "2023-02-12T05:38:48.257308",
          "status": "completed"
        },
        "tags": [],
        "colab": {
          "base_uri": "https://localhost:8080/"
        },
        "id": "09d70928",
        "outputId": "603f0c80-42f6-482f-d746-3d3fb696acfe"
      },
      "outputs": [
        {
          "output_type": "execute_result",
          "data": {
            "text/plain": [
              "150"
            ]
          },
          "metadata": {},
          "execution_count": 16
        }
      ],
      "source": [
        "y.size"
      ]
    },
    {
      "cell_type": "code",
      "execution_count": null,
      "id": "f3199c5d",
      "metadata": {
        "execution": {
          "iopub.execute_input": "2023-02-12T05:38:48.297974Z",
          "iopub.status.busy": "2023-02-12T05:38:48.297328Z",
          "iopub.status.idle": "2023-02-12T05:38:48.305252Z",
          "shell.execute_reply": "2023-02-12T05:38:48.304075Z"
        },
        "papermill": {
          "duration": 0.022386,
          "end_time": "2023-02-12T05:38:48.307575",
          "exception": false,
          "start_time": "2023-02-12T05:38:48.285189",
          "status": "completed"
        },
        "tags": [],
        "colab": {
          "base_uri": "https://localhost:8080/"
        },
        "id": "f3199c5d",
        "outputId": "d8eca684-e0a4-4ba5-e460-6724de7a887d"
      },
      "outputs": [
        {
          "output_type": "execute_result",
          "data": {
            "text/plain": [
              "array(['Iris-setosa', 'Iris-versicolor', 'Iris-virginica'], dtype=object)"
            ]
          },
          "metadata": {},
          "execution_count": 17
        }
      ],
      "source": [
        "y.unique()"
      ]
    },
    {
      "cell_type": "code",
      "execution_count": null,
      "id": "3c9ffe8a",
      "metadata": {
        "execution": {
          "iopub.execute_input": "2023-02-12T05:38:48.327449Z",
          "iopub.status.busy": "2023-02-12T05:38:48.327013Z",
          "iopub.status.idle": "2023-02-12T05:38:48.335945Z",
          "shell.execute_reply": "2023-02-12T05:38:48.334898Z"
        },
        "papermill": {
          "duration": 0.021659,
          "end_time": "2023-02-12T05:38:48.338396",
          "exception": false,
          "start_time": "2023-02-12T05:38:48.316737",
          "status": "completed"
        },
        "tags": [],
        "colab": {
          "base_uri": "https://localhost:8080/"
        },
        "id": "3c9ffe8a",
        "outputId": "0a7d5ec6-38fc-4740-dba0-a52971ad8d39"
      },
      "outputs": [
        {
          "output_type": "execute_result",
          "data": {
            "text/plain": [
              "array([150])"
            ]
          },
          "metadata": {},
          "execution_count": 18
        }
      ],
      "source": [
        "X.count().unique()"
      ]
    },
    {
      "cell_type": "code",
      "execution_count": null,
      "id": "4679878a",
      "metadata": {
        "execution": {
          "iopub.execute_input": "2023-02-12T05:38:48.359910Z",
          "iopub.status.busy": "2023-02-12T05:38:48.358771Z",
          "iopub.status.idle": "2023-02-12T05:38:48.564903Z",
          "shell.execute_reply": "2023-02-12T05:38:48.563793Z"
        },
        "papermill": {
          "duration": 0.219819,
          "end_time": "2023-02-12T05:38:48.567743",
          "exception": false,
          "start_time": "2023-02-12T05:38:48.347924",
          "status": "completed"
        },
        "tags": [],
        "id": "4679878a"
      },
      "outputs": [],
      "source": [
        "from sklearn.pipeline import Pipeline\n",
        "from sklearn.model_selection import train_test_split"
      ]
    },
    {
      "cell_type": "code",
      "execution_count": null,
      "id": "7b7dddeb",
      "metadata": {
        "execution": {
          "iopub.execute_input": "2023-02-12T05:38:48.587682Z",
          "iopub.status.busy": "2023-02-12T05:38:48.587280Z",
          "iopub.status.idle": "2023-02-12T05:38:48.598031Z",
          "shell.execute_reply": "2023-02-12T05:38:48.596122Z"
        },
        "papermill": {
          "duration": 0.023743,
          "end_time": "2023-02-12T05:38:48.600673",
          "exception": false,
          "start_time": "2023-02-12T05:38:48.576930",
          "status": "completed"
        },
        "tags": [],
        "id": "7b7dddeb"
      },
      "outputs": [],
      "source": [
        "X_train,X_test,y_train,y_test = train_test_split(X,y,test_size=0.2,random_state=2)"
      ]
    },
    {
      "cell_type": "code",
      "execution_count": null,
      "id": "522c29cb",
      "metadata": {
        "execution": {
          "iopub.execute_input": "2023-02-12T05:38:48.620886Z",
          "iopub.status.busy": "2023-02-12T05:38:48.620466Z",
          "iopub.status.idle": "2023-02-12T05:38:48.702502Z",
          "shell.execute_reply": "2023-02-12T05:38:48.701245Z"
        },
        "papermill": {
          "duration": 0.095213,
          "end_time": "2023-02-12T05:38:48.705340",
          "exception": false,
          "start_time": "2023-02-12T05:38:48.610127",
          "status": "completed"
        },
        "tags": [],
        "id": "522c29cb"
      },
      "outputs": [],
      "source": [
        "from sklearn.linear_model import LogisticRegression\n",
        "model=LogisticRegression()"
      ]
    },
    {
      "cell_type": "code",
      "execution_count": null,
      "id": "ad993a89",
      "metadata": {
        "execution": {
          "iopub.execute_input": "2023-02-12T05:38:48.725545Z",
          "iopub.status.busy": "2023-02-12T05:38:48.725120Z",
          "iopub.status.idle": "2023-02-12T05:38:48.770826Z",
          "shell.execute_reply": "2023-02-12T05:38:48.769631Z"
        },
        "papermill": {
          "duration": 0.058913,
          "end_time": "2023-02-12T05:38:48.773384",
          "exception": false,
          "start_time": "2023-02-12T05:38:48.714471",
          "status": "completed"
        },
        "tags": [],
        "colab": {
          "base_uri": "https://localhost:8080/",
          "height": 74
        },
        "id": "ad993a89",
        "outputId": "554c9853-8949-4aaf-9c51-066cf0194928"
      },
      "outputs": [
        {
          "output_type": "execute_result",
          "data": {
            "text/plain": [
              "LogisticRegression()"
            ],
            "text/html": [
              "<style>#sk-container-id-1 {color: black;background-color: white;}#sk-container-id-1 pre{padding: 0;}#sk-container-id-1 div.sk-toggleable {background-color: white;}#sk-container-id-1 label.sk-toggleable__label {cursor: pointer;display: block;width: 100%;margin-bottom: 0;padding: 0.3em;box-sizing: border-box;text-align: center;}#sk-container-id-1 label.sk-toggleable__label-arrow:before {content: \"▸\";float: left;margin-right: 0.25em;color: #696969;}#sk-container-id-1 label.sk-toggleable__label-arrow:hover:before {color: black;}#sk-container-id-1 div.sk-estimator:hover label.sk-toggleable__label-arrow:before {color: black;}#sk-container-id-1 div.sk-toggleable__content {max-height: 0;max-width: 0;overflow: hidden;text-align: left;background-color: #f0f8ff;}#sk-container-id-1 div.sk-toggleable__content pre {margin: 0.2em;color: black;border-radius: 0.25em;background-color: #f0f8ff;}#sk-container-id-1 input.sk-toggleable__control:checked~div.sk-toggleable__content {max-height: 200px;max-width: 100%;overflow: auto;}#sk-container-id-1 input.sk-toggleable__control:checked~label.sk-toggleable__label-arrow:before {content: \"▾\";}#sk-container-id-1 div.sk-estimator input.sk-toggleable__control:checked~label.sk-toggleable__label {background-color: #d4ebff;}#sk-container-id-1 div.sk-label input.sk-toggleable__control:checked~label.sk-toggleable__label {background-color: #d4ebff;}#sk-container-id-1 input.sk-hidden--visually {border: 0;clip: rect(1px 1px 1px 1px);clip: rect(1px, 1px, 1px, 1px);height: 1px;margin: -1px;overflow: hidden;padding: 0;position: absolute;width: 1px;}#sk-container-id-1 div.sk-estimator {font-family: monospace;background-color: #f0f8ff;border: 1px dotted black;border-radius: 0.25em;box-sizing: border-box;margin-bottom: 0.5em;}#sk-container-id-1 div.sk-estimator:hover {background-color: #d4ebff;}#sk-container-id-1 div.sk-parallel-item::after {content: \"\";width: 100%;border-bottom: 1px solid gray;flex-grow: 1;}#sk-container-id-1 div.sk-label:hover label.sk-toggleable__label {background-color: #d4ebff;}#sk-container-id-1 div.sk-serial::before {content: \"\";position: absolute;border-left: 1px solid gray;box-sizing: border-box;top: 0;bottom: 0;left: 50%;z-index: 0;}#sk-container-id-1 div.sk-serial {display: flex;flex-direction: column;align-items: center;background-color: white;padding-right: 0.2em;padding-left: 0.2em;position: relative;}#sk-container-id-1 div.sk-item {position: relative;z-index: 1;}#sk-container-id-1 div.sk-parallel {display: flex;align-items: stretch;justify-content: center;background-color: white;position: relative;}#sk-container-id-1 div.sk-item::before, #sk-container-id-1 div.sk-parallel-item::before {content: \"\";position: absolute;border-left: 1px solid gray;box-sizing: border-box;top: 0;bottom: 0;left: 50%;z-index: -1;}#sk-container-id-1 div.sk-parallel-item {display: flex;flex-direction: column;z-index: 1;position: relative;background-color: white;}#sk-container-id-1 div.sk-parallel-item:first-child::after {align-self: flex-end;width: 50%;}#sk-container-id-1 div.sk-parallel-item:last-child::after {align-self: flex-start;width: 50%;}#sk-container-id-1 div.sk-parallel-item:only-child::after {width: 0;}#sk-container-id-1 div.sk-dashed-wrapped {border: 1px dashed gray;margin: 0 0.4em 0.5em 0.4em;box-sizing: border-box;padding-bottom: 0.4em;background-color: white;}#sk-container-id-1 div.sk-label label {font-family: monospace;font-weight: bold;display: inline-block;line-height: 1.2em;}#sk-container-id-1 div.sk-label-container {text-align: center;}#sk-container-id-1 div.sk-container {/* jupyter's `normalize.less` sets `[hidden] { display: none; }` but bootstrap.min.css set `[hidden] { display: none !important; }` so we also need the `!important` here to be able to override the default hidden behavior on the sphinx rendered scikit-learn.org. See: https://github.com/scikit-learn/scikit-learn/issues/21755 */display: inline-block !important;position: relative;}#sk-container-id-1 div.sk-text-repr-fallback {display: none;}</style><div id=\"sk-container-id-1\" class=\"sk-top-container\"><div class=\"sk-text-repr-fallback\"><pre>LogisticRegression()</pre><b>In a Jupyter environment, please rerun this cell to show the HTML representation or trust the notebook. <br />On GitHub, the HTML representation is unable to render, please try loading this page with nbviewer.org.</b></div><div class=\"sk-container\" hidden><div class=\"sk-item\"><div class=\"sk-estimator sk-toggleable\"><input class=\"sk-toggleable__control sk-hidden--visually\" id=\"sk-estimator-id-1\" type=\"checkbox\" checked><label for=\"sk-estimator-id-1\" class=\"sk-toggleable__label sk-toggleable__label-arrow\">LogisticRegression</label><div class=\"sk-toggleable__content\"><pre>LogisticRegression()</pre></div></div></div></div></div>"
            ]
          },
          "metadata": {},
          "execution_count": 22
        }
      ],
      "source": [
        "model.fit(X_train,y_train)\n"
      ]
    },
    {
      "cell_type": "code",
      "execution_count": null,
      "id": "733d1fa3",
      "metadata": {
        "execution": {
          "iopub.execute_input": "2023-02-12T05:38:48.793888Z",
          "iopub.status.busy": "2023-02-12T05:38:48.793457Z",
          "iopub.status.idle": "2023-02-12T05:38:48.800252Z",
          "shell.execute_reply": "2023-02-12T05:38:48.798988Z"
        },
        "papermill": {
          "duration": 0.020114,
          "end_time": "2023-02-12T05:38:48.802780",
          "exception": false,
          "start_time": "2023-02-12T05:38:48.782666",
          "status": "completed"
        },
        "tags": [],
        "id": "733d1fa3"
      },
      "outputs": [],
      "source": [
        "y_pred = model.predict(X_test)"
      ]
    },
    {
      "cell_type": "code",
      "execution_count": null,
      "id": "0369bedd",
      "metadata": {
        "execution": {
          "iopub.execute_input": "2023-02-12T05:38:48.822878Z",
          "iopub.status.busy": "2023-02-12T05:38:48.822416Z",
          "iopub.status.idle": "2023-02-12T05:38:48.829016Z",
          "shell.execute_reply": "2023-02-12T05:38:48.827906Z"
        },
        "papermill": {
          "duration": 0.019329,
          "end_time": "2023-02-12T05:38:48.831317",
          "exception": false,
          "start_time": "2023-02-12T05:38:48.811988",
          "status": "completed"
        },
        "tags": [],
        "colab": {
          "base_uri": "https://localhost:8080/"
        },
        "id": "0369bedd",
        "outputId": "b3d740bb-79c4-4830-c94c-06db3661d0f0"
      },
      "outputs": [
        {
          "output_type": "stream",
          "name": "stdout",
          "text": [
            "Accuracy score:  0.9666666666666667\n"
          ]
        }
      ],
      "source": [
        "from sklearn.metrics import accuracy_score,r2_score\n",
        "print(\"Accuracy score: \",accuracy_score(y_test, y_pred))\n"
      ]
    },
    {
      "cell_type": "code",
      "execution_count": null,
      "id": "373ab89b",
      "metadata": {
        "execution": {
          "iopub.execute_input": "2023-02-12T05:38:48.851819Z",
          "iopub.status.busy": "2023-02-12T05:38:48.851367Z",
          "iopub.status.idle": "2023-02-12T05:38:48.861330Z",
          "shell.execute_reply": "2023-02-12T05:38:48.859655Z"
        },
        "papermill": {
          "duration": 0.023428,
          "end_time": "2023-02-12T05:38:48.863958",
          "exception": false,
          "start_time": "2023-02-12T05:38:48.840530",
          "status": "completed"
        },
        "tags": [],
        "colab": {
          "base_uri": "https://localhost:8080/"
        },
        "id": "373ab89b",
        "outputId": "bbabd33e-70e4-4476-8d4c-016dad13e0fc"
      },
      "outputs": [
        {
          "output_type": "stream",
          "name": "stdout",
          "text": [
            "['Iris-setosa']\n"
          ]
        },
        {
          "output_type": "stream",
          "name": "stderr",
          "text": [
            "/usr/local/lib/python3.10/dist-packages/sklearn/base.py:439: UserWarning: X does not have valid feature names, but LogisticRegression was fitted with feature names\n",
            "  warnings.warn(\n"
          ]
        }
      ],
      "source": [
        "new_data = np.array([[4.4,3.0,2.1,1.8]])\n",
        "pred = model.predict(new_data)\n",
        "print(pred)"
      ]
    }
  ],
  "metadata": {
    "kernelspec": {
      "display_name": "Python 3",
      "language": "python",
      "name": "python3"
    },
    "language_info": {
      "codemirror_mode": {
        "name": "ipython",
        "version": 3
      },
      "file_extension": ".py",
      "mimetype": "text/x-python",
      "name": "python",
      "nbconvert_exporter": "python",
      "pygments_lexer": "ipython3",
      "version": "3.7.12"
    },
    "papermill": {
      "default_parameters": {},
      "duration": 13.965212,
      "end_time": "2023-02-12T05:38:49.723999",
      "environment_variables": {},
      "exception": null,
      "input_path": "__notebook__.ipynb",
      "output_path": "__notebook__.ipynb",
      "parameters": {},
      "start_time": "2023-02-12T05:38:35.758787",
      "version": "2.3.4"
    },
    "colab": {
      "provenance": []
    }
  },
  "nbformat": 4,
  "nbformat_minor": 5
}